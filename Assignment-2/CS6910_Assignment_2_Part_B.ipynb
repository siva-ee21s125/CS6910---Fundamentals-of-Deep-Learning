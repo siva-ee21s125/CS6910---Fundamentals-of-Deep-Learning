{
  "cells": [
    {
      "cell_type": "code",
      "execution_count": 1,
      "metadata": {
        "colab": {
          "base_uri": "https://localhost:8080/"
        },
        "id": "QrEugs5mm0cz",
        "outputId": "91436821-5ae0-43b8-ed4f-09b51d62acce"
      },
      "outputs": [
        {
          "output_type": "stream",
          "name": "stdout",
          "text": [
            "Mounted at /content/drive\n",
            "Extracted the dataset\n"
          ]
        }
      ],
      "source": [
        "#Mount Google Drive\n",
        "from google.colab import drive\n",
        "drive.mount('/content/drive')\n",
        "\n",
        "#Load and unzip iNaturalist zip file onto server, then remove zip to optimize performance\n",
        "zip_path = \"drive/MyDrive/nature_12K.zip\"\n",
        "!cp \"{zip_path}\" .\n",
        "!unzip -q nature_12K.zip\n",
        "!rm nature_12K.zip\n",
        "print(\"Extracted the dataset\");"
      ]
    },
    {
      "cell_type": "code",
      "execution_count": 2,
      "metadata": {
        "colab": {
          "base_uri": "https://localhost:8080/"
        },
        "id": "ToLnz9OVPHZ0",
        "outputId": "ec5f0a1f-1b99-48db-f809-ceb8aa7793eb"
      },
      "outputs": [
        {
          "output_type": "stream",
          "name": "stdout",
          "text": [
            "\u001b[2K     \u001b[90m━━━━━━━━━━━━━━━━━━━━━━━━━━━━━━━━━━━━━━━━\u001b[0m \u001b[32m2.2/2.2 MB\u001b[0m \u001b[31m17.0 MB/s\u001b[0m eta \u001b[36m0:00:00\u001b[0m\n",
            "\u001b[2K     \u001b[90m━━━━━━━━━━━━━━━━━━━━━━━━━━━━━━━━━━━━━━━━\u001b[0m \u001b[32m207.3/207.3 kB\u001b[0m \u001b[31m15.8 MB/s\u001b[0m eta \u001b[36m0:00:00\u001b[0m\n",
            "\u001b[2K     \u001b[90m━━━━━━━━━━━━━━━━━━━━━━━━━━━━━━━━━━━━━━━━\u001b[0m \u001b[32m267.1/267.1 kB\u001b[0m \u001b[31m22.5 MB/s\u001b[0m eta \u001b[36m0:00:00\u001b[0m\n",
            "\u001b[2K     \u001b[90m━━━━━━━━━━━━━━━━━━━━━━━━━━━━━━━━━━━━━━━━\u001b[0m \u001b[32m62.7/62.7 kB\u001b[0m \u001b[31m9.1 MB/s\u001b[0m eta \u001b[36m0:00:00\u001b[0m\n",
            "\u001b[?25h"
          ]
        },
        {
          "output_type": "stream",
          "name": "stderr",
          "text": [
            "\u001b[34m\u001b[1mwandb\u001b[0m: W&B API key is configured. Use \u001b[1m`wandb login --relogin`\u001b[0m to force relogin\n",
            "\u001b[34m\u001b[1mwandb\u001b[0m: \u001b[33mWARNING\u001b[0m If you're specifying your api key in code, ensure this code is not shared publicly.\n",
            "\u001b[34m\u001b[1mwandb\u001b[0m: \u001b[33mWARNING\u001b[0m Consider setting the WANDB_API_KEY environment variable, or running `wandb login` from the command line.\n",
            "\u001b[34m\u001b[1mwandb\u001b[0m: Appending key for api.wandb.ai to your netrc file: /root/.netrc\n"
          ]
        },
        {
          "output_type": "execute_result",
          "data": {
            "text/plain": [
              "True"
            ]
          },
          "metadata": {},
          "execution_count": 2
        }
      ],
      "source": [
        "!pip install wandb -qU\n",
        "import wandb\n",
        "wandb.login(key='2b25045507d6a89b66edf89be892f3687346ed10')"
      ]
    },
    {
      "cell_type": "code",
      "execution_count": 4,
      "metadata": {
        "colab": {
          "base_uri": "https://localhost:8080/",
          "height": 1000,
          "referenced_widgets": [
            "45aa00141b634680a7b6fd82286bc8db",
            "bfe88363843847bfa1f3093587bfcaa8",
            "e47e32b30f72461bac85871b17a1ec29",
            "b028818008d04dd9ae68423148f72e97",
            "0d4c1bda59104a65ab5ccc3e5c90ea58",
            "3eb8ca26cd524e1f8148465742e3bfb8",
            "32fbaeadc0e1431cb5b67c8cfef02fa1",
            "fe406d8c107240f2b46831a462dcf68c",
            "a474aeb77fba4496bb601ea18547f317",
            "7ee51996abb64c2482e2e22f36752b5c",
            "818c65e880f54b69ae4b7cf2657e1a82",
            "db3b42b5adbe424084367f1422434abe",
            "598acc7c3f3241e6ab1eec1d01b67a91",
            "eb605601698245d0bb226ffe37f910e6",
            "8d1d4aa6885b4ab18dc9169595fd99f4",
            "09595277fcae42bfb3370d91dad8fd41"
          ]
        },
        "id": "ruOTDI2og3CM",
        "outputId": "ab77a84e-cc7c-4c37-dd82-bf479cfe494a"
      },
      "outputs": [
        {
          "output_type": "stream",
          "name": "stderr",
          "text": [
            "\u001b[34m\u001b[1mwandb\u001b[0m: \u001b[33mWARNING\u001b[0m Calling wandb.login() after wandb.init() has no effect.\n"
          ]
        },
        {
          "output_type": "stream",
          "name": "stdout",
          "text": [
            "Create sweep with ID: bu1o8u7v\n",
            "Sweep URL: https://wandb.ai/ee21s125/EE21S125_DL_A2_PartB/sweeps/bu1o8u7v\n"
          ]
        },
        {
          "output_type": "stream",
          "name": "stderr",
          "text": [
            "\u001b[34m\u001b[1mwandb\u001b[0m: Agent Starting Run: oe4eydxg with config:\n",
            "\u001b[34m\u001b[1mwandb\u001b[0m: \tnn: RESNET50\n",
            "\u001b[34m\u001b[1mwandb\u001b[0m: \tnum_dense_neurons: 256\n",
            "\u001b[34m\u001b[1mwandb\u001b[0m: \u001b[33mWARNING\u001b[0m Ignored wandb.init() arg project when running a sweep.\n"
          ]
        },
        {
          "output_type": "display_data",
          "data": {
            "text/plain": [
              "<IPython.core.display.HTML object>"
            ],
            "text/html": [
              "Tracking run with wandb version 0.16.6"
            ]
          },
          "metadata": {}
        },
        {
          "output_type": "display_data",
          "data": {
            "text/plain": [
              "<IPython.core.display.HTML object>"
            ],
            "text/html": [
              "Run data is saved locally in <code>/content/wandb/run-20240412_022850-oe4eydxg</code>"
            ]
          },
          "metadata": {}
        },
        {
          "output_type": "display_data",
          "data": {
            "text/plain": [
              "<IPython.core.display.HTML object>"
            ],
            "text/html": [
              "Syncing run <strong><a href='https://wandb.ai/ee21s125/EE21S125_DL_A2_PartB/runs/oe4eydxg' target=\"_blank\">wobbly-sweep-1</a></strong> to <a href='https://wandb.ai/ee21s125/EE21S125_DL_A2_PartB' target=\"_blank\">Weights & Biases</a> (<a href='https://wandb.me/run' target=\"_blank\">docs</a>)<br/>Sweep page: <a href='https://wandb.ai/ee21s125/EE21S125_DL_A2_PartB/sweeps/bu1o8u7v' target=\"_blank\">https://wandb.ai/ee21s125/EE21S125_DL_A2_PartB/sweeps/bu1o8u7v</a>"
            ]
          },
          "metadata": {}
        },
        {
          "output_type": "display_data",
          "data": {
            "text/plain": [
              "<IPython.core.display.HTML object>"
            ],
            "text/html": [
              " View project at <a href='https://wandb.ai/ee21s125/EE21S125_DL_A2_PartB' target=\"_blank\">https://wandb.ai/ee21s125/EE21S125_DL_A2_PartB</a>"
            ]
          },
          "metadata": {}
        },
        {
          "output_type": "display_data",
          "data": {
            "text/plain": [
              "<IPython.core.display.HTML object>"
            ],
            "text/html": [
              " View sweep at <a href='https://wandb.ai/ee21s125/EE21S125_DL_A2_PartB/sweeps/bu1o8u7v' target=\"_blank\">https://wandb.ai/ee21s125/EE21S125_DL_A2_PartB/sweeps/bu1o8u7v</a>"
            ]
          },
          "metadata": {}
        },
        {
          "output_type": "display_data",
          "data": {
            "text/plain": [
              "<IPython.core.display.HTML object>"
            ],
            "text/html": [
              " View run at <a href='https://wandb.ai/ee21s125/EE21S125_DL_A2_PartB/runs/oe4eydxg' target=\"_blank\">https://wandb.ai/ee21s125/EE21S125_DL_A2_PartB/runs/oe4eydxg</a>"
            ]
          },
          "metadata": {}
        },
        {
          "output_type": "stream",
          "name": "stdout",
          "text": [
            "Device: cuda\n",
            "Classes: ['Amphibia', 'Animalia', 'Arachnida', 'Aves', 'Fungi', 'Insecta', 'Mammalia', 'Mollusca', 'Plantae', 'Reptilia']\n",
            "Classes: ['Amphibia', 'Animalia', 'Arachnida', 'Aves', 'Fungi', 'Insecta', 'Mammalia', 'Mollusca', 'Plantae', 'Reptilia']\n",
            "Epoch Time Taken: 221.68456768989563\n",
            "Training Accuracy: 0.2965370671333917  Training Loss: 17.213359360218586  Validation Accuracy: 0.397  Validate Loss: 2.9658723335266113  Epoch: 1\n",
            "Epoch Time Taken: 239.7825231552124\n",
            "Training Accuracy: 0.5539442430303788  Training Loss: 1.3265563412627097  Validation Accuracy: 0.6175  Validate Loss: 1.1189222469329834  Epoch: 1\n",
            "Epoch Time Taken: 240.39950442314148\n",
            "Training Accuracy: 0.5799474934366796  Training Loss: 2.0226475320498425  Validation Accuracy: 0.4635  Validate Loss: 3.00400616645813  Epoch: 2\n",
            "Epoch Time Taken: 231.05773258209229\n",
            "Training Accuracy: 0.7048381047630954  Training Loss: 0.879474908258784  Validation Accuracy: 0.69  Validate Loss: 0.9395322566032409  Epoch: 2\n",
            "Epoch Time Taken: 237.8573112487793\n",
            "Training Accuracy: 0.6598324790598825  Training Loss: 1.3208061083508575  Validation Accuracy: 0.6345  Validate Loss: 1.2684615278244018  Epoch: 3\n",
            "Epoch Time Taken: 237.2658839225769\n",
            "Training Accuracy: 0.734841855231904  Training Loss: 0.7783043363538737  Validation Accuracy: 0.7185  Validate Loss: 0.8497276763916015  Epoch: 3\n",
            "Epoch Time Taken: 237.33768510818481\n",
            "Training Accuracy: 0.698587323415427  Training Loss: 0.9628842458797703  Validation Accuracy: 0.619  Validate Loss: 1.4293893108367919  Epoch: 4\n",
            "Epoch Time Taken: 236.22196459770203\n",
            "Training Accuracy: 0.7553444180522565  Training Loss: 0.7174051876201646  Validation Accuracy: 0.7315  Validate Loss: 0.8112947292327881  Epoch: 4\n",
            "Epoch Time Taken: 239.2230625152588\n",
            "Training Accuracy: 0.7498437304663083  Training Loss: 0.7670871044474998  Validation Accuracy: 0.628  Validate Loss: 1.3311407070159913  Epoch: 5\n",
            "Epoch Time Taken: 235.98458099365234\n",
            "Training Accuracy: 0.7662207775971996  Training Loss: 0.699645993634751  Validation Accuracy: 0.7315  Validate Loss: 0.8071122221946716  Epoch: 5\n",
            "Epoch Time Taken: 234.6615822315216\n",
            "Training Accuracy: 0.7794724340542568  Training Loss: 0.6504476996328938  Validation Accuracy: 0.717  Validate Loss: 0.8561366763114929  Epoch: 6\n",
            "Epoch Time Taken: 237.87701058387756\n",
            "Training Accuracy: 0.7774721840230029  Training Loss: 0.6632893641660594  Validation Accuracy: 0.7445  Validate Loss: 0.7865723056793212  Epoch: 6\n",
            "Epoch Time Taken: 233.84878969192505\n",
            "Training Accuracy: 0.7994749343667958  Training Loss: 0.5955772481421886  Validation Accuracy: 0.7675  Validate Loss: 0.7408127865791321  Epoch: 7\n",
            "Epoch Time Taken: 241.85448670387268\n",
            "Training Accuracy: 0.7838479809976246  Training Loss: 0.6457020152373707  Validation Accuracy: 0.742  Validate Loss: 0.7605372829437256  Epoch: 7\n",
            "Epoch Time Taken: 236.24562001228333\n",
            "Training Accuracy: 0.8123515439429929  Training Loss: 0.5650029738391396  Validation Accuracy: 0.7585  Validate Loss: 0.7283508434295655  Epoch: 8\n",
            "  Validation Accuracy:Epoch Time Taken: 258.25806164741516\n",
            "Training Accuracy: 0.7900987623452932  Training Loss: 0.6395592365894992  Validation Accuracy: 0.7445  Validate Loss: 0.7706935381889344  Epoch: 8\n",
            "Epoch Time Taken: 224.5065619945526\n",
            "Training Accuracy: 0.8173521690211276  Training Loss: 0.563224459852423  Validation Accuracy: 0.759  Validate Loss: 0.7277707967758179  Epoch: 9\n",
            "Epoch Time Taken: 232.80968022346497\n",
            "Training Accuracy: 0.7897237154644331  Training Loss: 0.6307678569077044  Validation Accuracy: 0.753  Validate Loss: 0.7516940479278564  Epoch: 9\n",
            "Epoch Time Taken: 231.90079545974731\n",
            "Training Accuracy: 0.7992249031128891  Training Loss: 0.598105826665795  Validation Accuracy: 0.75  Validate Loss: 0.769201789855957  Epoch: 10\n",
            "Epoch Time Taken: 234.21113538742065\n",
            "Training Accuracy: 0.7933491686460807  Training Loss: 0.6201929638111259  Validation Accuracy: 0.7445  Validate Loss: 0.7783880429267883  Epoch: 10\n",
            "Epoch Time Taken: 242.2934718132019\n",
            "Training Accuracy: 0.7623452931616452  Training Loss: 0.7302613908319954  Validation Accuracy: 0.745  Validate Loss: 0.8141095476150513  Epoch: 11\n",
            "Epoch Time Taken: 239.3916802406311\n",
            "Training Accuracy: 0.7865983247905989  Training Loss: 0.6319462512489974  Validation Accuracy: 0.7435  Validate Loss: 0.7698471212387085  Epoch: 11\n",
            "Epoch Time Taken: 245.56756973266602\n",
            "Training Accuracy: 0.6912114014251781  Training Loss: 1.1863609858938629  Validation Accuracy: 0.616  Validate Loss: 1.8002390003204345  Epoch: 12\n",
            "Epoch Time Taken: 240.75897312164307\n",
            "Training Accuracy: 0.7810976372046505  Training Loss: 0.6498564485311955  Validation Accuracy: 0.737  Validate Loss: 0.8113867244720459  Epoch: 12\n",
            "Epoch Time Taken: 242.95199871063232\n",
            "Training Accuracy: 0.39404925615701963  Training Loss: 16.452759846163804  Validation Accuracy: 0.698  Validate Loss: 0.966083683013916  Epoch: 13\n",
            "Epoch Time Taken: 244.1446590423584\n",
            "Training Accuracy: 0.7767220902612827  Training Loss: 0.6544850099338623  Validation Accuracy: 0.729  Validate Loss: 0.8218947172164917  Epoch: 13\n",
            "Epoch Time Taken: 241.20298838615417\n",
            "Training Accuracy: 0.7088386048256032  Training Loss: 0.8706590327967374  Validation Accuracy: 0.7215  Validate Loss: 0.8419526872634888  Epoch: 14\n",
            "Epoch Time Taken: 235.22647976875305\n",
            "Training Accuracy: 0.771096387048381  Training Loss: 0.6677923128670165  Validation Accuracy: 0.7015  Validate Loss: 0.8641920623779297  Epoch: 14\n",
            "Epoch Time Taken: 235.67549633979797\n",
            "Training Accuracy: 0.7393424178022253  Training Loss: 0.7768053303123758  Validation Accuracy: 0.6805  Validate Loss: 0.966551944732666  Epoch: 15\n",
            "Test Accuracy: 0.7095  test Loss: 0.8774515409469604\n"
          ]
        },
        {
          "output_type": "display_data",
          "data": {
            "text/plain": [
              "VBox(children=(Label(value='0.001 MB of 0.001 MB uploaded\\r'), FloatProgress(value=1.0, max=1.0)))"
            ],
            "application/vnd.jupyter.widget-view+json": {
              "version_major": 2,
              "version_minor": 0,
              "model_id": "45aa00141b634680a7b6fd82286bc8db"
            }
          },
          "metadata": {}
        },
        {
          "output_type": "display_data",
          "data": {
            "text/plain": [
              "<IPython.core.display.HTML object>"
            ],
            "text/html": [
              "<style>\n",
              "    table.wandb td:nth-child(1) { padding: 0 10px; text-align: left ; width: auto;} td:nth-child(2) {text-align: left ; width: 100%}\n",
              "    .wandb-row { display: flex; flex-direction: row; flex-wrap: wrap; justify-content: flex-start; width: 100% }\n",
              "    .wandb-col { display: flex; flex-direction: column; flex-basis: 100%; flex: 1; padding: 10px; }\n",
              "    </style>\n",
              "<div class=\"wandb-row\"><div class=\"wandb-col\"><h3>Run history:</h3><br/><table class=\"wandb\"><tr><td>epoch</td><td>▁▁▁▁▂▂▃▃▃▃▃▃▄▄▅▅▅▅▅▅▆▆▇▇▇▇▇▇█</td></tr><tr><td>test_accuracy</td><td>▁</td></tr><tr><td>test_loss</td><td>▁</td></tr><tr><td>train_accuracy</td><td>▁▄▅▆▆▇▆▇▇▇▇▇████████▇█▆█▂▇▇▇▇</td></tr><tr><td>train_loss</td><td>█▁▂▁▁▁▁▁▁▁▁▁▁▁▁▁▁▁▁▁▁▁▁▁█▁▁▁▁</td></tr><tr><td>validate_accuracy</td><td>▁▅▂▇▅▇▅▇▅▇▇███████████▅▇▇▇▇▇▆</td></tr><tr><td>validate_loss</td><td>█▂█▂▃▁▃▁▃▁▁▁▁▁▁▁▁▁▁▁▁▁▄▁▂▁▁▁▂</td></tr></table><br/></div><div class=\"wandb-col\"><h3>Run summary:</h3><br/><table class=\"wandb\"><tr><td>epoch</td><td>15</td></tr><tr><td>test_accuracy</td><td>0.7095</td></tr><tr><td>test_loss</td><td>0.87745</td></tr><tr><td>train_accuracy</td><td>0.73934</td></tr><tr><td>train_loss</td><td>0.77681</td></tr><tr><td>validate_accuracy</td><td>0.6805</td></tr><tr><td>validate_loss</td><td>0.96655</td></tr></table><br/></div></div>"
            ]
          },
          "metadata": {}
        },
        {
          "output_type": "display_data",
          "data": {
            "text/plain": [
              "<IPython.core.display.HTML object>"
            ],
            "text/html": [
              " View run <strong style=\"color:#cdcd00\">wobbly-sweep-1</strong> at: <a href='https://wandb.ai/ee21s125/EE21S125_DL_A2_PartB/runs/oe4eydxg' target=\"_blank\">https://wandb.ai/ee21s125/EE21S125_DL_A2_PartB/runs/oe4eydxg</a><br/> View project at: <a href='https://wandb.ai/ee21s125/EE21S125_DL_A2_PartB' target=\"_blank\">https://wandb.ai/ee21s125/EE21S125_DL_A2_PartB</a><br/>Synced 5 W&B file(s), 0 media file(s), 0 artifact file(s) and 0 other file(s)"
            ]
          },
          "metadata": {}
        },
        {
          "output_type": "display_data",
          "data": {
            "text/plain": [
              "<IPython.core.display.HTML object>"
            ],
            "text/html": [
              "Find logs at: <code>./wandb/run-20240412_022850-oe4eydxg/logs</code>"
            ]
          },
          "metadata": {}
        },
        {
          "output_type": "stream",
          "name": "stdout",
          "text": [
            "COMPLETE\n"
          ]
        },
        {
          "output_type": "stream",
          "name": "stderr",
          "text": [
            "\u001b[34m\u001b[1mwandb\u001b[0m: \u001b[32m\u001b[41mERROR\u001b[0m Run oe4eydxg errored:\n",
            "\u001b[34m\u001b[1mwandb\u001b[0m: \u001b[32m\u001b[41mERROR\u001b[0m Traceback (most recent call last):\n",
            "\u001b[34m\u001b[1mwandb\u001b[0m: \u001b[32m\u001b[41mERROR\u001b[0m   File \"/usr/local/lib/python3.10/dist-packages/wandb/agents/pyagent.py\", line 308, in _run_job\n",
            "\u001b[34m\u001b[1mwandb\u001b[0m: \u001b[32m\u001b[41mERROR\u001b[0m     self._function()\n",
            "\u001b[34m\u001b[1mwandb\u001b[0m: \u001b[32m\u001b[41mERROR\u001b[0m   File \"<ipython-input-4-15e60fd3617e>\", line 190, in main\n",
            "\u001b[34m\u001b[1mwandb\u001b[0m: \u001b[32m\u001b[41mERROR\u001b[0m     wandb.log({'train_loss': train_loss, 'train_accuracy':train_accuracy, 'validate_loss': validate_loss, 'validate_accuracy': validate_accuracy, 'epoch':epoch + 1});\n",
            "\u001b[34m\u001b[1mwandb\u001b[0m: \u001b[32m\u001b[41mERROR\u001b[0m   File \"/usr/local/lib/python3.10/dist-packages/wandb/sdk/lib/preinit.py\", line 36, in preinit_wrapper\n",
            "\u001b[34m\u001b[1mwandb\u001b[0m: \u001b[32m\u001b[41mERROR\u001b[0m     raise wandb.Error(f\"You must call wandb.init() before {name}()\")\n",
            "\u001b[34m\u001b[1mwandb\u001b[0m: \u001b[32m\u001b[41mERROR\u001b[0m wandb.errors.Error: You must call wandb.init() before wandb.log()\n",
            "\u001b[34m\u001b[1mwandb\u001b[0m: \u001b[32m\u001b[41mERROR\u001b[0m \n"
          ]
        },
        {
          "output_type": "stream",
          "name": "stdout",
          "text": [
            "Epoch Time Taken: 207.722727060318\n",
            "Training Accuracy: 0.7818477309663708  Training Loss: 0.6633851076606095  Validation Accuracy: 0.7055  Validate Loss: 0.9170907068252564  Epoch: 15\n"
          ]
        },
        {
          "output_type": "stream",
          "name": "stderr",
          "text": [
            "\u001b[34m\u001b[1mwandb\u001b[0m: Agent Starting Run: dyk5meso with config:\n",
            "\u001b[34m\u001b[1mwandb\u001b[0m: \tnn: GOOGLENET\n",
            "\u001b[34m\u001b[1mwandb\u001b[0m: \tnum_dense_neurons: 256\n",
            "\u001b[34m\u001b[1mwandb\u001b[0m: \u001b[33mWARNING\u001b[0m Ignored wandb.init() arg project when running a sweep.\n"
          ]
        },
        {
          "output_type": "display_data",
          "data": {
            "text/plain": [
              "<IPython.core.display.HTML object>"
            ],
            "text/html": [
              "Tracking run with wandb version 0.16.6"
            ]
          },
          "metadata": {}
        },
        {
          "output_type": "display_data",
          "data": {
            "text/plain": [
              "<IPython.core.display.HTML object>"
            ],
            "text/html": [
              "Run data is saved locally in <code>/content/wandb/run-20240412_032824-dyk5meso</code>"
            ]
          },
          "metadata": {}
        },
        {
          "output_type": "display_data",
          "data": {
            "text/plain": [
              "<IPython.core.display.HTML object>"
            ],
            "text/html": [
              "Syncing run <strong><a href='https://wandb.ai/ee21s125/EE21S125_DL_A2_PartB/runs/dyk5meso' target=\"_blank\">stoic-sweep-2</a></strong> to <a href='https://wandb.ai/ee21s125/EE21S125_DL_A2_PartB' target=\"_blank\">Weights & Biases</a> (<a href='https://wandb.me/run' target=\"_blank\">docs</a>)<br/>Sweep page: <a href='https://wandb.ai/ee21s125/EE21S125_DL_A2_PartB/sweeps/bu1o8u7v' target=\"_blank\">https://wandb.ai/ee21s125/EE21S125_DL_A2_PartB/sweeps/bu1o8u7v</a>"
            ]
          },
          "metadata": {}
        },
        {
          "output_type": "display_data",
          "data": {
            "text/plain": [
              "<IPython.core.display.HTML object>"
            ],
            "text/html": [
              " View project at <a href='https://wandb.ai/ee21s125/EE21S125_DL_A2_PartB' target=\"_blank\">https://wandb.ai/ee21s125/EE21S125_DL_A2_PartB</a>"
            ]
          },
          "metadata": {}
        },
        {
          "output_type": "display_data",
          "data": {
            "text/plain": [
              "<IPython.core.display.HTML object>"
            ],
            "text/html": [
              " View sweep at <a href='https://wandb.ai/ee21s125/EE21S125_DL_A2_PartB/sweeps/bu1o8u7v' target=\"_blank\">https://wandb.ai/ee21s125/EE21S125_DL_A2_PartB/sweeps/bu1o8u7v</a>"
            ]
          },
          "metadata": {}
        },
        {
          "output_type": "display_data",
          "data": {
            "text/plain": [
              "<IPython.core.display.HTML object>"
            ],
            "text/html": [
              " View run at <a href='https://wandb.ai/ee21s125/EE21S125_DL_A2_PartB/runs/dyk5meso' target=\"_blank\">https://wandb.ai/ee21s125/EE21S125_DL_A2_PartB/runs/dyk5meso</a>"
            ]
          },
          "metadata": {}
        },
        {
          "output_type": "stream",
          "name": "stdout",
          "text": [
            "Device: cuda\n",
            "Classes: ['Amphibia', 'Animalia', 'Arachnida', 'Aves', 'Fungi', 'Insecta', 'Mammalia', 'Mollusca', 'Plantae', 'Reptilia']\n",
            "Classes: ['Amphibia', 'Animalia', 'Arachnida', 'Aves', 'Fungi', 'Insecta', 'Mammalia', 'Mollusca', 'Plantae', 'Reptilia']\n"
          ]
        },
        {
          "output_type": "stream",
          "name": "stderr",
          "text": [
            "/usr/local/lib/python3.10/dist-packages/torchvision/models/_utils.py:223: UserWarning: Arguments other than a weight enum or `None` for 'weights' are deprecated since 0.13 and may be removed in the future. The current behavior is equivalent to passing `weights=GoogLeNet_Weights.IMAGENET1K_V1`. You can also use `weights=GoogLeNet_Weights.DEFAULT` to get the most up-to-date weights.\n",
            "  warnings.warn(msg)\n",
            "Downloading: \"https://download.pytorch.org/models/googlenet-1378be20.pth\" to /root/.cache/torch/hub/checkpoints/googlenet-1378be20.pth\n",
            "100%|██████████| 49.7M/49.7M [00:00<00:00, 163MB/s]\n"
          ]
        },
        {
          "output_type": "stream",
          "name": "stdout",
          "text": [
            "Epoch Time Taken: 113.86201858520508\n",
            "Training Accuracy: 0.5454431803975497  Training Loss: 1.4485390017011461  Validation Accuracy: 0.589  Validate Loss: 1.2342624940872193  Epoch: 1\n",
            "Epoch Time Taken: 114.15801429748535\n",
            "Training Accuracy: 0.6683335416927116  Training Loss: 1.0162424983896603  Validation Accuracy: 0.6805  Validate Loss: 1.0125036778450012  Epoch: 2\n",
            "Epoch Time Taken: 113.78158593177795\n",
            "Training Accuracy: 0.6895861982747844  Training Loss: 0.9418232068000308  Validation Accuracy: 0.6995  Validate Loss: 0.9585328998565674  Epoch: 3\n",
            "Epoch Time Taken: 113.30530452728271\n",
            "Training Accuracy: 0.716214526815852  Training Loss: 0.8869357986932457  Validation Accuracy: 0.693  Validate Loss: 0.9399560384750366  Epoch: 4\n",
            "Epoch Time Taken: 113.93232488632202\n",
            "Training Accuracy: 0.7188398549818728  Training Loss: 0.8484422627620838  Validation Accuracy: 0.685  Validate Loss: 0.9767585287094116  Epoch: 5\n",
            "Epoch Time Taken: 113.56447672843933\n",
            "Training Accuracy: 0.7213401675209401  Training Loss: 0.8447719740113522  Validation Accuracy: 0.704  Validate Loss: 0.959056480884552  Epoch: 6\n",
            "Epoch Time Taken: 113.07142615318298\n",
            "Training Accuracy: 0.7224653081635204  Training Loss: 0.8309554784636838  Validation Accuracy: 0.709  Validate Loss: 0.900452525138855  Epoch: 7\n",
            "Epoch Time Taken: 112.80417251586914\n",
            "Training Accuracy: 0.7265908238529816  Training Loss: 0.8288828627752325  Validation Accuracy: 0.6955  Validate Loss: 0.9375673789978027  Epoch: 8\n",
            "Epoch Time Taken: 112.86766648292542\n",
            "Training Accuracy: 0.7287160895111889  Training Loss: 0.8251160145521254  Validation Accuracy: 0.7145  Validate Loss: 0.8859658155441285  Epoch: 9\n",
            "Epoch Time Taken: 113.60507774353027\n",
            "Training Accuracy: 0.7353419177397175  Training Loss: 0.8116243357568372  Validation Accuracy: 0.6965  Validate Loss: 0.918308394908905  Epoch: 10\n",
            "Epoch Time Taken: 113.6950535774231\n",
            "Training Accuracy: 0.7315914489311164  Training Loss: 0.8231420775982332  Validation Accuracy: 0.7105  Validate Loss: 0.9316043424606323  Epoch: 11\n",
            "Epoch Time Taken: 114.19907712936401\n",
            "Training Accuracy: 0.7315914489311164  Training Loss: 0.8198081425971308  Validation Accuracy: 0.7045  Validate Loss: 0.9014960374832154  Epoch: 12\n",
            "Epoch Time Taken: 114.11958193778992\n",
            "Training Accuracy: 0.7237154644330541  Training Loss: 0.8410252667409298  Validation Accuracy: 0.699  Validate Loss: 0.9554218602180481  Epoch: 13\n",
            "Epoch Time Taken: 113.66934084892273\n",
            "Training Accuracy: 0.7182147768471059  Training Loss: 0.8328086759525771  Validation Accuracy: 0.685  Validate Loss: 0.9845844297409058  Epoch: 14\n",
            "Epoch Time Taken: 113.24448943138123\n",
            "Training Accuracy: 0.7234654331791474  Training Loss: 0.8216582369858033  Validation Accuracy: 0.6815  Validate Loss: 0.9717642135620117  Epoch: 15\n",
            "Test Accuracy: 0.6945  test Loss: 0.9191442189216614\n"
          ]
        },
        {
          "output_type": "display_data",
          "data": {
            "text/plain": [
              "VBox(children=(Label(value='0.001 MB of 0.001 MB uploaded\\r'), FloatProgress(value=1.0, max=1.0)))"
            ],
            "application/vnd.jupyter.widget-view+json": {
              "version_major": 2,
              "version_minor": 0,
              "model_id": "a474aeb77fba4496bb601ea18547f317"
            }
          },
          "metadata": {}
        },
        {
          "output_type": "display_data",
          "data": {
            "text/plain": [
              "<IPython.core.display.HTML object>"
            ],
            "text/html": [
              "<style>\n",
              "    table.wandb td:nth-child(1) { padding: 0 10px; text-align: left ; width: auto;} td:nth-child(2) {text-align: left ; width: 100%}\n",
              "    .wandb-row { display: flex; flex-direction: row; flex-wrap: wrap; justify-content: flex-start; width: 100% }\n",
              "    .wandb-col { display: flex; flex-direction: column; flex-basis: 100%; flex: 1; padding: 10px; }\n",
              "    </style>\n",
              "<div class=\"wandb-row\"><div class=\"wandb-col\"><h3>Run history:</h3><br/><table class=\"wandb\"><tr><td>epoch</td><td>▁▁▂▃▃▃▄▅▅▅▆▇▇▇█</td></tr><tr><td>test_accuracy</td><td>▁</td></tr><tr><td>test_loss</td><td>▁</td></tr><tr><td>train_accuracy</td><td>▁▆▆▇▇▇███████▇█</td></tr><tr><td>train_loss</td><td>█▃▂▂▁▁▁▁▁▁▁▁▁▁▁</td></tr><tr><td>validate_accuracy</td><td>▁▆▇▇▆▇█▇█▇█▇▇▆▆</td></tr><tr><td>validate_loss</td><td>█▄▂▂▃▂▁▂▁▂▂▁▂▃▃</td></tr></table><br/></div><div class=\"wandb-col\"><h3>Run summary:</h3><br/><table class=\"wandb\"><tr><td>epoch</td><td>15</td></tr><tr><td>test_accuracy</td><td>0.6945</td></tr><tr><td>test_loss</td><td>0.91914</td></tr><tr><td>train_accuracy</td><td>0.72347</td></tr><tr><td>train_loss</td><td>0.82166</td></tr><tr><td>validate_accuracy</td><td>0.6815</td></tr><tr><td>validate_loss</td><td>0.97176</td></tr></table><br/></div></div>"
            ]
          },
          "metadata": {}
        },
        {
          "output_type": "display_data",
          "data": {
            "text/plain": [
              "<IPython.core.display.HTML object>"
            ],
            "text/html": [
              " View run <strong style=\"color:#cdcd00\">stoic-sweep-2</strong> at: <a href='https://wandb.ai/ee21s125/EE21S125_DL_A2_PartB/runs/dyk5meso' target=\"_blank\">https://wandb.ai/ee21s125/EE21S125_DL_A2_PartB/runs/dyk5meso</a><br/> View project at: <a href='https://wandb.ai/ee21s125/EE21S125_DL_A2_PartB' target=\"_blank\">https://wandb.ai/ee21s125/EE21S125_DL_A2_PartB</a><br/>Synced 5 W&B file(s), 0 media file(s), 0 artifact file(s) and 0 other file(s)"
            ]
          },
          "metadata": {}
        },
        {
          "output_type": "display_data",
          "data": {
            "text/plain": [
              "<IPython.core.display.HTML object>"
            ],
            "text/html": [
              "Find logs at: <code>./wandb/run-20240412_032824-dyk5meso/logs</code>"
            ]
          },
          "metadata": {}
        },
        {
          "output_type": "stream",
          "name": "stdout",
          "text": [
            "COMPLETE\n"
          ]
        },
        {
          "output_type": "stream",
          "name": "stderr",
          "text": [
            "\u001b[34m\u001b[1mwandb\u001b[0m: Sweep Agent: Waiting for job.\n",
            "\u001b[34m\u001b[1mwandb\u001b[0m: Sweep Agent: Exiting.\n"
          ]
        },
        {
          "output_type": "stream",
          "name": "stdout",
          "text": [
            "Error in callback <bound method _WandbInit._pause_backend of <wandb.sdk.wandb_init._WandbInit object at 0x7b522b9bbd60>> (for post_run_cell):\n"
          ]
        },
        {
          "output_type": "error",
          "ename": "BrokenPipeError",
          "evalue": "[Errno 32] Broken pipe",
          "traceback": [
            "\u001b[0;31m---------------------------------------------------------------------------\u001b[0m",
            "\u001b[0;31mBrokenPipeError\u001b[0m                           Traceback (most recent call last)",
            "\u001b[0;32m/usr/local/lib/python3.10/dist-packages/wandb/sdk/wandb_init.py\u001b[0m in \u001b[0;36m_pause_backend\u001b[0;34m(self, *args, **kwargs)\u001b[0m\n\u001b[1;32m    431\u001b[0m         \u001b[0;32mif\u001b[0m \u001b[0mself\u001b[0m\u001b[0;34m.\u001b[0m\u001b[0mbackend\u001b[0m\u001b[0;34m.\u001b[0m\u001b[0minterface\u001b[0m \u001b[0;32mis\u001b[0m \u001b[0;32mnot\u001b[0m \u001b[0;32mNone\u001b[0m\u001b[0;34m:\u001b[0m\u001b[0;34m\u001b[0m\u001b[0;34m\u001b[0m\u001b[0m\n\u001b[1;32m    432\u001b[0m             \u001b[0mlogger\u001b[0m\u001b[0;34m.\u001b[0m\u001b[0minfo\u001b[0m\u001b[0;34m(\u001b[0m\u001b[0;34m\"pausing backend\"\u001b[0m\u001b[0;34m)\u001b[0m  \u001b[0;31m# type: ignore\u001b[0m\u001b[0;34m\u001b[0m\u001b[0;34m\u001b[0m\u001b[0m\n\u001b[0;32m--> 433\u001b[0;31m             \u001b[0mself\u001b[0m\u001b[0;34m.\u001b[0m\u001b[0mbackend\u001b[0m\u001b[0;34m.\u001b[0m\u001b[0minterface\u001b[0m\u001b[0;34m.\u001b[0m\u001b[0mpublish_pause\u001b[0m\u001b[0;34m(\u001b[0m\u001b[0;34m)\u001b[0m\u001b[0;34m\u001b[0m\u001b[0;34m\u001b[0m\u001b[0m\n\u001b[0m\u001b[1;32m    434\u001b[0m \u001b[0;34m\u001b[0m\u001b[0m\n\u001b[1;32m    435\u001b[0m     \u001b[0;32mdef\u001b[0m \u001b[0m_resume_backend\u001b[0m\u001b[0;34m(\u001b[0m\u001b[0mself\u001b[0m\u001b[0;34m,\u001b[0m \u001b[0;34m*\u001b[0m\u001b[0margs\u001b[0m\u001b[0;34m:\u001b[0m \u001b[0mAny\u001b[0m\u001b[0;34m,\u001b[0m \u001b[0;34m**\u001b[0m\u001b[0mkwargs\u001b[0m\u001b[0;34m:\u001b[0m \u001b[0mAny\u001b[0m\u001b[0;34m)\u001b[0m \u001b[0;34m->\u001b[0m \u001b[0;32mNone\u001b[0m\u001b[0;34m:\u001b[0m  \u001b[0;31m#  noqa\u001b[0m\u001b[0;34m\u001b[0m\u001b[0;34m\u001b[0m\u001b[0m\n",
            "\u001b[0;32m/usr/local/lib/python3.10/dist-packages/wandb/sdk/interface/interface.py\u001b[0m in \u001b[0;36mpublish_pause\u001b[0;34m(self)\u001b[0m\n\u001b[1;32m    680\u001b[0m     \u001b[0;32mdef\u001b[0m \u001b[0mpublish_pause\u001b[0m\u001b[0;34m(\u001b[0m\u001b[0mself\u001b[0m\u001b[0;34m)\u001b[0m \u001b[0;34m->\u001b[0m \u001b[0;32mNone\u001b[0m\u001b[0;34m:\u001b[0m\u001b[0;34m\u001b[0m\u001b[0;34m\u001b[0m\u001b[0m\n\u001b[1;32m    681\u001b[0m         \u001b[0mpause\u001b[0m \u001b[0;34m=\u001b[0m \u001b[0mpb\u001b[0m\u001b[0;34m.\u001b[0m\u001b[0mPauseRequest\u001b[0m\u001b[0;34m(\u001b[0m\u001b[0;34m)\u001b[0m\u001b[0;34m\u001b[0m\u001b[0;34m\u001b[0m\u001b[0m\n\u001b[0;32m--> 682\u001b[0;31m         \u001b[0mself\u001b[0m\u001b[0;34m.\u001b[0m\u001b[0m_publish_pause\u001b[0m\u001b[0;34m(\u001b[0m\u001b[0mpause\u001b[0m\u001b[0;34m)\u001b[0m\u001b[0;34m\u001b[0m\u001b[0;34m\u001b[0m\u001b[0m\n\u001b[0m\u001b[1;32m    683\u001b[0m \u001b[0;34m\u001b[0m\u001b[0m\n\u001b[1;32m    684\u001b[0m     \u001b[0;34m@\u001b[0m\u001b[0mabstractmethod\u001b[0m\u001b[0;34m\u001b[0m\u001b[0;34m\u001b[0m\u001b[0m\n",
            "\u001b[0;32m/usr/local/lib/python3.10/dist-packages/wandb/sdk/interface/interface_shared.py\u001b[0m in \u001b[0;36m_publish_pause\u001b[0;34m(self, pause)\u001b[0m\n\u001b[1;32m    355\u001b[0m     \u001b[0;32mdef\u001b[0m \u001b[0m_publish_pause\u001b[0m\u001b[0;34m(\u001b[0m\u001b[0mself\u001b[0m\u001b[0;34m,\u001b[0m \u001b[0mpause\u001b[0m\u001b[0;34m:\u001b[0m \u001b[0mpb\u001b[0m\u001b[0;34m.\u001b[0m\u001b[0mPauseRequest\u001b[0m\u001b[0;34m)\u001b[0m \u001b[0;34m->\u001b[0m \u001b[0;32mNone\u001b[0m\u001b[0;34m:\u001b[0m\u001b[0;34m\u001b[0m\u001b[0;34m\u001b[0m\u001b[0m\n\u001b[1;32m    356\u001b[0m         \u001b[0mrec\u001b[0m \u001b[0;34m=\u001b[0m \u001b[0mself\u001b[0m\u001b[0;34m.\u001b[0m\u001b[0m_make_request\u001b[0m\u001b[0;34m(\u001b[0m\u001b[0mpause\u001b[0m\u001b[0;34m=\u001b[0m\u001b[0mpause\u001b[0m\u001b[0;34m)\u001b[0m\u001b[0;34m\u001b[0m\u001b[0;34m\u001b[0m\u001b[0m\n\u001b[0;32m--> 357\u001b[0;31m         \u001b[0mself\u001b[0m\u001b[0;34m.\u001b[0m\u001b[0m_publish\u001b[0m\u001b[0;34m(\u001b[0m\u001b[0mrec\u001b[0m\u001b[0;34m)\u001b[0m\u001b[0;34m\u001b[0m\u001b[0;34m\u001b[0m\u001b[0m\n\u001b[0m\u001b[1;32m    358\u001b[0m \u001b[0;34m\u001b[0m\u001b[0m\n\u001b[1;32m    359\u001b[0m     \u001b[0;32mdef\u001b[0m \u001b[0m_publish_resume\u001b[0m\u001b[0;34m(\u001b[0m\u001b[0mself\u001b[0m\u001b[0;34m,\u001b[0m \u001b[0mresume\u001b[0m\u001b[0;34m:\u001b[0m \u001b[0mpb\u001b[0m\u001b[0;34m.\u001b[0m\u001b[0mResumeRequest\u001b[0m\u001b[0;34m)\u001b[0m \u001b[0;34m->\u001b[0m \u001b[0;32mNone\u001b[0m\u001b[0;34m:\u001b[0m\u001b[0;34m\u001b[0m\u001b[0;34m\u001b[0m\u001b[0m\n",
            "\u001b[0;32m/usr/local/lib/python3.10/dist-packages/wandb/sdk/interface/interface_sock.py\u001b[0m in \u001b[0;36m_publish\u001b[0;34m(self, record, local)\u001b[0m\n\u001b[1;32m     49\u001b[0m     \u001b[0;32mdef\u001b[0m \u001b[0m_publish\u001b[0m\u001b[0;34m(\u001b[0m\u001b[0mself\u001b[0m\u001b[0;34m,\u001b[0m \u001b[0mrecord\u001b[0m\u001b[0;34m:\u001b[0m \u001b[0;34m\"pb.Record\"\u001b[0m\u001b[0;34m,\u001b[0m \u001b[0mlocal\u001b[0m\u001b[0;34m:\u001b[0m \u001b[0mOptional\u001b[0m\u001b[0;34m[\u001b[0m\u001b[0mbool\u001b[0m\u001b[0;34m]\u001b[0m \u001b[0;34m=\u001b[0m \u001b[0;32mNone\u001b[0m\u001b[0;34m)\u001b[0m \u001b[0;34m->\u001b[0m \u001b[0;32mNone\u001b[0m\u001b[0;34m:\u001b[0m\u001b[0;34m\u001b[0m\u001b[0;34m\u001b[0m\u001b[0m\n\u001b[1;32m     50\u001b[0m         \u001b[0mself\u001b[0m\u001b[0;34m.\u001b[0m\u001b[0m_assign\u001b[0m\u001b[0;34m(\u001b[0m\u001b[0mrecord\u001b[0m\u001b[0;34m)\u001b[0m\u001b[0;34m\u001b[0m\u001b[0;34m\u001b[0m\u001b[0m\n\u001b[0;32m---> 51\u001b[0;31m         \u001b[0mself\u001b[0m\u001b[0;34m.\u001b[0m\u001b[0m_sock_client\u001b[0m\u001b[0;34m.\u001b[0m\u001b[0msend_record_publish\u001b[0m\u001b[0;34m(\u001b[0m\u001b[0mrecord\u001b[0m\u001b[0;34m)\u001b[0m\u001b[0;34m\u001b[0m\u001b[0;34m\u001b[0m\u001b[0m\n\u001b[0m\u001b[1;32m     52\u001b[0m \u001b[0;34m\u001b[0m\u001b[0m\n\u001b[1;32m     53\u001b[0m     def _communicate_async(\n",
            "\u001b[0;32m/usr/local/lib/python3.10/dist-packages/wandb/sdk/lib/sock_client.py\u001b[0m in \u001b[0;36msend_record_publish\u001b[0;34m(self, record)\u001b[0m\n\u001b[1;32m    219\u001b[0m         \u001b[0mserver_req\u001b[0m \u001b[0;34m=\u001b[0m \u001b[0mspb\u001b[0m\u001b[0;34m.\u001b[0m\u001b[0mServerRequest\u001b[0m\u001b[0;34m(\u001b[0m\u001b[0;34m)\u001b[0m\u001b[0;34m\u001b[0m\u001b[0;34m\u001b[0m\u001b[0m\n\u001b[1;32m    220\u001b[0m         \u001b[0mserver_req\u001b[0m\u001b[0;34m.\u001b[0m\u001b[0mrecord_publish\u001b[0m\u001b[0;34m.\u001b[0m\u001b[0mCopyFrom\u001b[0m\u001b[0;34m(\u001b[0m\u001b[0mrecord\u001b[0m\u001b[0;34m)\u001b[0m\u001b[0;34m\u001b[0m\u001b[0;34m\u001b[0m\u001b[0m\n\u001b[0;32m--> 221\u001b[0;31m         \u001b[0mself\u001b[0m\u001b[0;34m.\u001b[0m\u001b[0msend_server_request\u001b[0m\u001b[0;34m(\u001b[0m\u001b[0mserver_req\u001b[0m\u001b[0;34m)\u001b[0m\u001b[0;34m\u001b[0m\u001b[0;34m\u001b[0m\u001b[0m\n\u001b[0m\u001b[1;32m    222\u001b[0m \u001b[0;34m\u001b[0m\u001b[0m\n\u001b[1;32m    223\u001b[0m     \u001b[0;32mdef\u001b[0m \u001b[0m_extract_packet_bytes\u001b[0m\u001b[0;34m(\u001b[0m\u001b[0mself\u001b[0m\u001b[0;34m)\u001b[0m \u001b[0;34m->\u001b[0m \u001b[0mOptional\u001b[0m\u001b[0;34m[\u001b[0m\u001b[0mbytes\u001b[0m\u001b[0;34m]\u001b[0m\u001b[0;34m:\u001b[0m\u001b[0;34m\u001b[0m\u001b[0;34m\u001b[0m\u001b[0m\n",
            "\u001b[0;32m/usr/local/lib/python3.10/dist-packages/wandb/sdk/lib/sock_client.py\u001b[0m in \u001b[0;36msend_server_request\u001b[0;34m(self, msg)\u001b[0m\n\u001b[1;32m    153\u001b[0m \u001b[0;34m\u001b[0m\u001b[0m\n\u001b[1;32m    154\u001b[0m     \u001b[0;32mdef\u001b[0m \u001b[0msend_server_request\u001b[0m\u001b[0;34m(\u001b[0m\u001b[0mself\u001b[0m\u001b[0;34m,\u001b[0m \u001b[0mmsg\u001b[0m\u001b[0;34m:\u001b[0m \u001b[0mAny\u001b[0m\u001b[0;34m)\u001b[0m \u001b[0;34m->\u001b[0m \u001b[0;32mNone\u001b[0m\u001b[0;34m:\u001b[0m\u001b[0;34m\u001b[0m\u001b[0;34m\u001b[0m\u001b[0m\n\u001b[0;32m--> 155\u001b[0;31m         \u001b[0mself\u001b[0m\u001b[0;34m.\u001b[0m\u001b[0m_send_message\u001b[0m\u001b[0;34m(\u001b[0m\u001b[0mmsg\u001b[0m\u001b[0;34m)\u001b[0m\u001b[0;34m\u001b[0m\u001b[0;34m\u001b[0m\u001b[0m\n\u001b[0m\u001b[1;32m    156\u001b[0m \u001b[0;34m\u001b[0m\u001b[0m\n\u001b[1;32m    157\u001b[0m     \u001b[0;32mdef\u001b[0m \u001b[0msend_server_response\u001b[0m\u001b[0;34m(\u001b[0m\u001b[0mself\u001b[0m\u001b[0;34m,\u001b[0m \u001b[0mmsg\u001b[0m\u001b[0;34m:\u001b[0m \u001b[0mAny\u001b[0m\u001b[0;34m)\u001b[0m \u001b[0;34m->\u001b[0m \u001b[0;32mNone\u001b[0m\u001b[0;34m:\u001b[0m\u001b[0;34m\u001b[0m\u001b[0;34m\u001b[0m\u001b[0m\n",
            "\u001b[0;32m/usr/local/lib/python3.10/dist-packages/wandb/sdk/lib/sock_client.py\u001b[0m in \u001b[0;36m_send_message\u001b[0;34m(self, msg)\u001b[0m\n\u001b[1;32m    150\u001b[0m         \u001b[0mheader\u001b[0m \u001b[0;34m=\u001b[0m \u001b[0mstruct\u001b[0m\u001b[0;34m.\u001b[0m\u001b[0mpack\u001b[0m\u001b[0;34m(\u001b[0m\u001b[0;34m\"<BI\"\u001b[0m\u001b[0;34m,\u001b[0m \u001b[0mord\u001b[0m\u001b[0;34m(\u001b[0m\u001b[0;34m\"W\"\u001b[0m\u001b[0;34m)\u001b[0m\u001b[0;34m,\u001b[0m \u001b[0mraw_size\u001b[0m\u001b[0;34m)\u001b[0m\u001b[0;34m\u001b[0m\u001b[0;34m\u001b[0m\u001b[0m\n\u001b[1;32m    151\u001b[0m         \u001b[0;32mwith\u001b[0m \u001b[0mself\u001b[0m\u001b[0;34m.\u001b[0m\u001b[0m_lock\u001b[0m\u001b[0;34m:\u001b[0m\u001b[0;34m\u001b[0m\u001b[0;34m\u001b[0m\u001b[0m\n\u001b[0;32m--> 152\u001b[0;31m             \u001b[0mself\u001b[0m\u001b[0;34m.\u001b[0m\u001b[0m_sendall_with_error_handle\u001b[0m\u001b[0;34m(\u001b[0m\u001b[0mheader\u001b[0m \u001b[0;34m+\u001b[0m \u001b[0mdata\u001b[0m\u001b[0;34m)\u001b[0m\u001b[0;34m\u001b[0m\u001b[0;34m\u001b[0m\u001b[0m\n\u001b[0m\u001b[1;32m    153\u001b[0m \u001b[0;34m\u001b[0m\u001b[0m\n\u001b[1;32m    154\u001b[0m     \u001b[0;32mdef\u001b[0m \u001b[0msend_server_request\u001b[0m\u001b[0;34m(\u001b[0m\u001b[0mself\u001b[0m\u001b[0;34m,\u001b[0m \u001b[0mmsg\u001b[0m\u001b[0;34m:\u001b[0m \u001b[0mAny\u001b[0m\u001b[0;34m)\u001b[0m \u001b[0;34m->\u001b[0m \u001b[0;32mNone\u001b[0m\u001b[0;34m:\u001b[0m\u001b[0;34m\u001b[0m\u001b[0;34m\u001b[0m\u001b[0m\n",
            "\u001b[0;32m/usr/local/lib/python3.10/dist-packages/wandb/sdk/lib/sock_client.py\u001b[0m in \u001b[0;36m_sendall_with_error_handle\u001b[0;34m(self, data)\u001b[0m\n\u001b[1;32m    128\u001b[0m             \u001b[0mstart_time\u001b[0m \u001b[0;34m=\u001b[0m \u001b[0mtime\u001b[0m\u001b[0;34m.\u001b[0m\u001b[0mmonotonic\u001b[0m\u001b[0;34m(\u001b[0m\u001b[0;34m)\u001b[0m\u001b[0;34m\u001b[0m\u001b[0;34m\u001b[0m\u001b[0m\n\u001b[1;32m    129\u001b[0m             \u001b[0;32mtry\u001b[0m\u001b[0;34m:\u001b[0m\u001b[0;34m\u001b[0m\u001b[0;34m\u001b[0m\u001b[0m\n\u001b[0;32m--> 130\u001b[0;31m                 \u001b[0msent\u001b[0m \u001b[0;34m=\u001b[0m \u001b[0mself\u001b[0m\u001b[0;34m.\u001b[0m\u001b[0m_sock\u001b[0m\u001b[0;34m.\u001b[0m\u001b[0msend\u001b[0m\u001b[0;34m(\u001b[0m\u001b[0mdata\u001b[0m\u001b[0;34m)\u001b[0m\u001b[0;34m\u001b[0m\u001b[0;34m\u001b[0m\u001b[0m\n\u001b[0m\u001b[1;32m    131\u001b[0m                 \u001b[0;31m# sent equal to 0 indicates a closed socket\u001b[0m\u001b[0;34m\u001b[0m\u001b[0;34m\u001b[0m\u001b[0m\n\u001b[1;32m    132\u001b[0m                 \u001b[0;32mif\u001b[0m \u001b[0msent\u001b[0m \u001b[0;34m==\u001b[0m \u001b[0;36m0\u001b[0m\u001b[0;34m:\u001b[0m\u001b[0;34m\u001b[0m\u001b[0;34m\u001b[0m\u001b[0m\n",
            "\u001b[0;31mBrokenPipeError\u001b[0m: [Errno 32] Broken pipe"
          ]
        }
      ],
      "source": [
        "import torch\n",
        "import torchvision.models as models\n",
        "import torchvision.transforms as transforms\n",
        "import torch.nn as nn\n",
        "import torch.optim as optim\n",
        "import torchvision.datasets as datasets\n",
        "from PIL import Image\n",
        "from torch.utils.data import Dataset\n",
        "from torch.utils.data import DataLoader\n",
        "import os\n",
        "from glob import glob\n",
        "import numpy as np\n",
        "import time\n",
        "from torch.optim.lr_scheduler import CosineAnnealingLR\n",
        "\n",
        "class PreProcessDataset(Dataset):\n",
        "    def __init__(self, root_dir, mode):\n",
        "        self.root_dir = root_dir;\n",
        "        self.mode = mode;\n",
        "        self.prepareDataset();\n",
        "        self.imageTransform();\n",
        "\n",
        "    def prepareDataset(self):\n",
        "        self.files = [];\n",
        "        self.labels = [];\n",
        "        self.classes = [];\n",
        "\n",
        "        directory_path = os.path.join(self.root_dir, 'train');\n",
        "        folders = sorted(os.listdir(directory_path));\n",
        "\n",
        "        for i in folders:\n",
        "          if i[0]!= \".\":\n",
        "            self.classes.append(i);\n",
        "        print(\"Classes:\",self.classes);\n",
        "        if self.mode == 'train':\n",
        "          for i in range(len(self.classes)):\n",
        "              files = glob(os.path.join(directory_path, self.classes[i], '*.jpg'));\n",
        "              self.labels += [i]*len(files);\n",
        "              self.files += files;\n",
        "        if self.mode == 'test':\n",
        "          directory_path = os.path.join(self.root_dir, 'val');\n",
        "          for i in range(len(self.classes)):\n",
        "              files = glob(os.path.join(directory_path, self.classes[i], '*.jpg'));\n",
        "              self.labels += [i]*len(files);\n",
        "              self.files += files;\n",
        "\n",
        "    def imageTransform(self):\n",
        "        self.transform = transforms.Compose([\n",
        "            transforms.RandomRotation(30),\n",
        "            transforms.CenterCrop(224),\n",
        "            transforms.RandomHorizontalFlip(),\n",
        "            transforms.Resize((256,256)),\n",
        "            transforms.ToTensor(),\n",
        "            transforms.Normalize([0.485, 0.456, 0.406], [0.229, 0.224, 0.225])\n",
        "        ]);\n",
        "\n",
        "    def __getitem__(self, index):\n",
        "        img = Image.open(self.files[index]).convert('RGB');\n",
        "        img = self.transform(img);\n",
        "        label = self.labels[index];\n",
        "        label = torch.tensor(label, dtype = torch.long);\n",
        "        return img, label;\n",
        "\n",
        "    def __len__(self):\n",
        "        return len(self.files);\n",
        "\n",
        "def train(model, dataset, optimizer, criterion, device):\n",
        "    epoch_loss = 0\n",
        "    epoch_correct_predictions = 0\n",
        "    epoch_total_samples = 0\n",
        "    model.train();\n",
        "    for i, (images,labels) in enumerate(dataset):\n",
        "        #setting gradients to zero again to prevent any incorrect calculation\n",
        "        optimizer.zero_grad();\n",
        "        images, labels = images.to(device), labels.to(device);\n",
        "        predicted = model(images);\n",
        "        loss = criterion(predicted,labels);\n",
        "        loss.backward();\n",
        "        optimizer.step();\n",
        "\n",
        "        _, predicted_labels = torch.max(predicted, 1);\n",
        "        correct_predictions = (predicted_labels == labels).sum().item();\n",
        "        batch_accuracy = correct_predictions / len(labels);\n",
        "\n",
        "        epoch_loss += loss.item() * len(labels);\n",
        "        epoch_correct_predictions += correct_predictions;\n",
        "        epoch_total_samples += len(labels);\n",
        "\n",
        "\n",
        "    epoch_loss /= epoch_total_samples;\n",
        "    epoch_accuracy = epoch_correct_predictions / epoch_total_samples;\n",
        "\n",
        "    return epoch_loss, epoch_accuracy;\n",
        "\n",
        "\n",
        "def validate(model, dataset, criterion, device):\n",
        "\n",
        "    epoch_loss = 0\n",
        "    epoch_correct_predictions = 0\n",
        "    epoch_total_samples = 0\n",
        "    model.train();\n",
        "    for i, (images,labels) in enumerate(dataset):\n",
        "        images, labels = images.to(device), labels.to(device);\n",
        "        predicted = model(images);\n",
        "        loss = criterion(predicted,labels);\n",
        "\n",
        "        _, predicted_labels = torch.max(predicted, 1);\n",
        "        correct_predictions = (predicted_labels == labels).sum().item();\n",
        "        batch_accuracy = correct_predictions / len(labels);\n",
        "\n",
        "\n",
        "        epoch_loss += loss.item() * len(labels);\n",
        "        epoch_correct_predictions += correct_predictions;\n",
        "        epoch_total_samples += len(labels);\n",
        "\n",
        "\n",
        "    epoch_loss /= epoch_total_samples;\n",
        "    epoch_accuracy = epoch_correct_predictions / epoch_total_samples;\n",
        "\n",
        "    return epoch_loss, epoch_accuracy;\n",
        "\n",
        "\n",
        "def main():\n",
        "    wandb.init(project='EE21S125_DL_A2_PartB');\n",
        "    NN = wandb.config.nn;\n",
        "    num_dense_neurons = wandb.config.num_dense_neurons;\n",
        "\n",
        "    num_epochs = 15;\n",
        "    dataset_directory = 'inaturalist_12K';\n",
        "    batch_size = 128;\n",
        "\n",
        "    mode = 'train';\n",
        "    num_classes = 10;\n",
        "\n",
        "    device = torch.device('cuda' if torch.cuda.is_available() else 'cpu');\n",
        "    print(\"Device:\", device);\n",
        "\n",
        "    training_set = PreProcessDataset(dataset_directory,mode);\n",
        "    train_size = int(0.8*len(training_set));\n",
        "    validate_size = len(training_set) - train_size;\n",
        "\n",
        "    train_dataset, validate_dataset = torch.utils.data.random_split(training_set, [train_size, validate_size]);\n",
        "\n",
        "    train_loader = DataLoader(train_dataset, batch_size=batch_size, shuffle=True, num_workers=10);\n",
        "    validate_loader = DataLoader(validate_dataset, batch_size=batch_size, shuffle=True, num_workers=10);\n",
        "\n",
        "    mode = 'test';\n",
        "    test_dataset = PreProcessDataset(dataset_directory,mode);\n",
        "    test_loader = DataLoader(test_dataset, batch_size, shuffle=True, num_workers = 10)\n",
        "\n",
        "\n",
        "    # Load pre-trained ResNet50 model\n",
        "    if NN == 'RESNET50':\n",
        "      model = models.resnet50(pretrained=True)\n",
        "    elif NN == 'GOOGLENET':\n",
        "      model = models.googlenet(pretrained = True);\n",
        "\n",
        "    # Freeze all layers except the last layer\n",
        "    for param in model.parameters():\n",
        "        param.requires_grad = False\n",
        "\n",
        "    # Modify the last layer for the new dataset\n",
        "    num_ftrs = model.fc.in_features;\n",
        "    model.fc = nn.Sequential(\n",
        "        torch.nn.Linear(num_ftrs, num_dense_neurons),\n",
        "        torch.nn.Mish(),\n",
        "        torch.nn.Dropout(0.3),\n",
        "        torch.nn.Linear(num_dense_neurons, num_classes),\n",
        "    );\n",
        "\n",
        "    model = model.to(device);\n",
        "\n",
        "    # Define loss function and optimizer\n",
        "    criterion = torch.nn.CrossEntropyLoss();\n",
        "    optimizer = optim.NAdam(model.fc.parameters(), lr=0.001);\n",
        "    anneal = CosineAnnealingLR(optimizer, T_max=num_epochs/2, eta_min = 0.0001);\n",
        "\n",
        "    wandb.run.name = (\"NN_\"+str(NN)+\"_dn_\"+str(num_dense_neurons));\n",
        "\n",
        "    for epoch in range(num_epochs):\n",
        "      start_time = time.time();\n",
        "      train_loss,train_accuracy = train(model,train_loader,optimizer,criterion,device);\n",
        "      validate_loss,validate_accuracy = validate(model,validate_loader,criterion,device);\n",
        "      anneal.step();\n",
        "      end_time = time.time();\n",
        "      elapsed_time = end_time - start_time;\n",
        "\n",
        "      print(\"Epoch Time Taken:\", elapsed_time);\n",
        "      print(\"Training Accuracy:\", train_accuracy,\" Training Loss:\", train_loss, \" Validation Accuracy:\", validate_accuracy, \" Validate Loss:\", validate_loss,\" Epoch:\", epoch +1);\n",
        "      wandb.log({'train_loss': train_loss, 'train_accuracy':train_accuracy, 'validate_loss': validate_loss, 'validate_accuracy': validate_accuracy, 'epoch':epoch + 1});\n",
        "    test_loss,test_accuracy = validate(model,test_loader,criterion,device);\n",
        "    print(\"Test Accuracy:\", test_accuracy, \" test Loss:\", test_loss);\n",
        "    wandb.log({'test_loss':test_loss,'test_accuracy':test_accuracy});\n",
        "    wandb.finish();\n",
        "    print(\"COMPLETE\");\n",
        "\n",
        "\n",
        "\n",
        "if __name__ == \"__main__\":\n",
        "   sweep_config = {\n",
        "                    'method': 'grid',\n",
        "                    'metric': {\n",
        "                                'name': 'validate_accuracy',\n",
        "                                'goal': 'maximize'\n",
        "                              },\n",
        "                    'parameters': {\n",
        "                        'nn':{'values':['RESNET50','GOOGLENET']},\n",
        "                        'num_dense_neurons':{'values': [128,256]},\n",
        "\n",
        "                    }\n",
        "                  }\n",
        "   sweep_id = wandb.sweep(sweep= sweep_config, project='EE21S125_DL_A2_PartB');\n",
        "   wandb.agent(sweep_id, function = main,count=4);\n",
        "  #main();\n"
      ]
    }
  ],
  "metadata": {
    "accelerator": "GPU",
    "colab": {
      "gpuType": "V100",
      "provenance": []
    },
    "kernelspec": {
      "display_name": "Python 3",
      "name": "python3"
    },
    "language_info": {
      "name": "python"
    },
    "widgets": {
      "application/vnd.jupyter.widget-state+json": {
        "45aa00141b634680a7b6fd82286bc8db": {
          "model_module": "@jupyter-widgets/controls",
          "model_name": "VBoxModel",
          "model_module_version": "1.5.0",
          "state": {
            "_dom_classes": [],
            "_model_module": "@jupyter-widgets/controls",
            "_model_module_version": "1.5.0",
            "_model_name": "VBoxModel",
            "_view_count": null,
            "_view_module": "@jupyter-widgets/controls",
            "_view_module_version": "1.5.0",
            "_view_name": "VBoxView",
            "box_style": "",
            "children": [
              "IPY_MODEL_bfe88363843847bfa1f3093587bfcaa8",
              "IPY_MODEL_e47e32b30f72461bac85871b17a1ec29"
            ],
            "layout": "IPY_MODEL_b028818008d04dd9ae68423148f72e97"
          }
        },
        "bfe88363843847bfa1f3093587bfcaa8": {
          "model_module": "@jupyter-widgets/controls",
          "model_name": "LabelModel",
          "model_module_version": "1.5.0",
          "state": {
            "_dom_classes": [],
            "_model_module": "@jupyter-widgets/controls",
            "_model_module_version": "1.5.0",
            "_model_name": "LabelModel",
            "_view_count": null,
            "_view_module": "@jupyter-widgets/controls",
            "_view_module_version": "1.5.0",
            "_view_name": "LabelView",
            "description": "",
            "description_tooltip": null,
            "layout": "IPY_MODEL_0d4c1bda59104a65ab5ccc3e5c90ea58",
            "placeholder": "​",
            "style": "IPY_MODEL_3eb8ca26cd524e1f8148465742e3bfb8",
            "value": "0.016 MB of 0.016 MB uploaded\r"
          }
        },
        "e47e32b30f72461bac85871b17a1ec29": {
          "model_module": "@jupyter-widgets/controls",
          "model_name": "FloatProgressModel",
          "model_module_version": "1.5.0",
          "state": {
            "_dom_classes": [],
            "_model_module": "@jupyter-widgets/controls",
            "_model_module_version": "1.5.0",
            "_model_name": "FloatProgressModel",
            "_view_count": null,
            "_view_module": "@jupyter-widgets/controls",
            "_view_module_version": "1.5.0",
            "_view_name": "ProgressView",
            "bar_style": "",
            "description": "",
            "description_tooltip": null,
            "layout": "IPY_MODEL_32fbaeadc0e1431cb5b67c8cfef02fa1",
            "max": 1,
            "min": 0,
            "orientation": "horizontal",
            "style": "IPY_MODEL_fe406d8c107240f2b46831a462dcf68c",
            "value": 1
          }
        },
        "b028818008d04dd9ae68423148f72e97": {
          "model_module": "@jupyter-widgets/base",
          "model_name": "LayoutModel",
          "model_module_version": "1.2.0",
          "state": {
            "_model_module": "@jupyter-widgets/base",
            "_model_module_version": "1.2.0",
            "_model_name": "LayoutModel",
            "_view_count": null,
            "_view_module": "@jupyter-widgets/base",
            "_view_module_version": "1.2.0",
            "_view_name": "LayoutView",
            "align_content": null,
            "align_items": null,
            "align_self": null,
            "border": null,
            "bottom": null,
            "display": null,
            "flex": null,
            "flex_flow": null,
            "grid_area": null,
            "grid_auto_columns": null,
            "grid_auto_flow": null,
            "grid_auto_rows": null,
            "grid_column": null,
            "grid_gap": null,
            "grid_row": null,
            "grid_template_areas": null,
            "grid_template_columns": null,
            "grid_template_rows": null,
            "height": null,
            "justify_content": null,
            "justify_items": null,
            "left": null,
            "margin": null,
            "max_height": null,
            "max_width": null,
            "min_height": null,
            "min_width": null,
            "object_fit": null,
            "object_position": null,
            "order": null,
            "overflow": null,
            "overflow_x": null,
            "overflow_y": null,
            "padding": null,
            "right": null,
            "top": null,
            "visibility": null,
            "width": null
          }
        },
        "0d4c1bda59104a65ab5ccc3e5c90ea58": {
          "model_module": "@jupyter-widgets/base",
          "model_name": "LayoutModel",
          "model_module_version": "1.2.0",
          "state": {
            "_model_module": "@jupyter-widgets/base",
            "_model_module_version": "1.2.0",
            "_model_name": "LayoutModel",
            "_view_count": null,
            "_view_module": "@jupyter-widgets/base",
            "_view_module_version": "1.2.0",
            "_view_name": "LayoutView",
            "align_content": null,
            "align_items": null,
            "align_self": null,
            "border": null,
            "bottom": null,
            "display": null,
            "flex": null,
            "flex_flow": null,
            "grid_area": null,
            "grid_auto_columns": null,
            "grid_auto_flow": null,
            "grid_auto_rows": null,
            "grid_column": null,
            "grid_gap": null,
            "grid_row": null,
            "grid_template_areas": null,
            "grid_template_columns": null,
            "grid_template_rows": null,
            "height": null,
            "justify_content": null,
            "justify_items": null,
            "left": null,
            "margin": null,
            "max_height": null,
            "max_width": null,
            "min_height": null,
            "min_width": null,
            "object_fit": null,
            "object_position": null,
            "order": null,
            "overflow": null,
            "overflow_x": null,
            "overflow_y": null,
            "padding": null,
            "right": null,
            "top": null,
            "visibility": null,
            "width": null
          }
        },
        "3eb8ca26cd524e1f8148465742e3bfb8": {
          "model_module": "@jupyter-widgets/controls",
          "model_name": "DescriptionStyleModel",
          "model_module_version": "1.5.0",
          "state": {
            "_model_module": "@jupyter-widgets/controls",
            "_model_module_version": "1.5.0",
            "_model_name": "DescriptionStyleModel",
            "_view_count": null,
            "_view_module": "@jupyter-widgets/base",
            "_view_module_version": "1.2.0",
            "_view_name": "StyleView",
            "description_width": ""
          }
        },
        "32fbaeadc0e1431cb5b67c8cfef02fa1": {
          "model_module": "@jupyter-widgets/base",
          "model_name": "LayoutModel",
          "model_module_version": "1.2.0",
          "state": {
            "_model_module": "@jupyter-widgets/base",
            "_model_module_version": "1.2.0",
            "_model_name": "LayoutModel",
            "_view_count": null,
            "_view_module": "@jupyter-widgets/base",
            "_view_module_version": "1.2.0",
            "_view_name": "LayoutView",
            "align_content": null,
            "align_items": null,
            "align_self": null,
            "border": null,
            "bottom": null,
            "display": null,
            "flex": null,
            "flex_flow": null,
            "grid_area": null,
            "grid_auto_columns": null,
            "grid_auto_flow": null,
            "grid_auto_rows": null,
            "grid_column": null,
            "grid_gap": null,
            "grid_row": null,
            "grid_template_areas": null,
            "grid_template_columns": null,
            "grid_template_rows": null,
            "height": null,
            "justify_content": null,
            "justify_items": null,
            "left": null,
            "margin": null,
            "max_height": null,
            "max_width": null,
            "min_height": null,
            "min_width": null,
            "object_fit": null,
            "object_position": null,
            "order": null,
            "overflow": null,
            "overflow_x": null,
            "overflow_y": null,
            "padding": null,
            "right": null,
            "top": null,
            "visibility": null,
            "width": null
          }
        },
        "fe406d8c107240f2b46831a462dcf68c": {
          "model_module": "@jupyter-widgets/controls",
          "model_name": "ProgressStyleModel",
          "model_module_version": "1.5.0",
          "state": {
            "_model_module": "@jupyter-widgets/controls",
            "_model_module_version": "1.5.0",
            "_model_name": "ProgressStyleModel",
            "_view_count": null,
            "_view_module": "@jupyter-widgets/base",
            "_view_module_version": "1.2.0",
            "_view_name": "StyleView",
            "bar_color": null,
            "description_width": ""
          }
        },
        "a474aeb77fba4496bb601ea18547f317": {
          "model_module": "@jupyter-widgets/controls",
          "model_name": "VBoxModel",
          "model_module_version": "1.5.0",
          "state": {
            "_dom_classes": [],
            "_model_module": "@jupyter-widgets/controls",
            "_model_module_version": "1.5.0",
            "_model_name": "VBoxModel",
            "_view_count": null,
            "_view_module": "@jupyter-widgets/controls",
            "_view_module_version": "1.5.0",
            "_view_name": "VBoxView",
            "box_style": "",
            "children": [
              "IPY_MODEL_7ee51996abb64c2482e2e22f36752b5c",
              "IPY_MODEL_818c65e880f54b69ae4b7cf2657e1a82"
            ],
            "layout": "IPY_MODEL_db3b42b5adbe424084367f1422434abe"
          }
        },
        "7ee51996abb64c2482e2e22f36752b5c": {
          "model_module": "@jupyter-widgets/controls",
          "model_name": "LabelModel",
          "model_module_version": "1.5.0",
          "state": {
            "_dom_classes": [],
            "_model_module": "@jupyter-widgets/controls",
            "_model_module_version": "1.5.0",
            "_model_name": "LabelModel",
            "_view_count": null,
            "_view_module": "@jupyter-widgets/controls",
            "_view_module_version": "1.5.0",
            "_view_name": "LabelView",
            "description": "",
            "description_tooltip": null,
            "layout": "IPY_MODEL_598acc7c3f3241e6ab1eec1d01b67a91",
            "placeholder": "​",
            "style": "IPY_MODEL_eb605601698245d0bb226ffe37f910e6",
            "value": "0.014 MB of 0.014 MB uploaded\r"
          }
        },
        "818c65e880f54b69ae4b7cf2657e1a82": {
          "model_module": "@jupyter-widgets/controls",
          "model_name": "FloatProgressModel",
          "model_module_version": "1.5.0",
          "state": {
            "_dom_classes": [],
            "_model_module": "@jupyter-widgets/controls",
            "_model_module_version": "1.5.0",
            "_model_name": "FloatProgressModel",
            "_view_count": null,
            "_view_module": "@jupyter-widgets/controls",
            "_view_module_version": "1.5.0",
            "_view_name": "ProgressView",
            "bar_style": "",
            "description": "",
            "description_tooltip": null,
            "layout": "IPY_MODEL_8d1d4aa6885b4ab18dc9169595fd99f4",
            "max": 1,
            "min": 0,
            "orientation": "horizontal",
            "style": "IPY_MODEL_09595277fcae42bfb3370d91dad8fd41",
            "value": 1
          }
        },
        "db3b42b5adbe424084367f1422434abe": {
          "model_module": "@jupyter-widgets/base",
          "model_name": "LayoutModel",
          "model_module_version": "1.2.0",
          "state": {
            "_model_module": "@jupyter-widgets/base",
            "_model_module_version": "1.2.0",
            "_model_name": "LayoutModel",
            "_view_count": null,
            "_view_module": "@jupyter-widgets/base",
            "_view_module_version": "1.2.0",
            "_view_name": "LayoutView",
            "align_content": null,
            "align_items": null,
            "align_self": null,
            "border": null,
            "bottom": null,
            "display": null,
            "flex": null,
            "flex_flow": null,
            "grid_area": null,
            "grid_auto_columns": null,
            "grid_auto_flow": null,
            "grid_auto_rows": null,
            "grid_column": null,
            "grid_gap": null,
            "grid_row": null,
            "grid_template_areas": null,
            "grid_template_columns": null,
            "grid_template_rows": null,
            "height": null,
            "justify_content": null,
            "justify_items": null,
            "left": null,
            "margin": null,
            "max_height": null,
            "max_width": null,
            "min_height": null,
            "min_width": null,
            "object_fit": null,
            "object_position": null,
            "order": null,
            "overflow": null,
            "overflow_x": null,
            "overflow_y": null,
            "padding": null,
            "right": null,
            "top": null,
            "visibility": null,
            "width": null
          }
        },
        "598acc7c3f3241e6ab1eec1d01b67a91": {
          "model_module": "@jupyter-widgets/base",
          "model_name": "LayoutModel",
          "model_module_version": "1.2.0",
          "state": {
            "_model_module": "@jupyter-widgets/base",
            "_model_module_version": "1.2.0",
            "_model_name": "LayoutModel",
            "_view_count": null,
            "_view_module": "@jupyter-widgets/base",
            "_view_module_version": "1.2.0",
            "_view_name": "LayoutView",
            "align_content": null,
            "align_items": null,
            "align_self": null,
            "border": null,
            "bottom": null,
            "display": null,
            "flex": null,
            "flex_flow": null,
            "grid_area": null,
            "grid_auto_columns": null,
            "grid_auto_flow": null,
            "grid_auto_rows": null,
            "grid_column": null,
            "grid_gap": null,
            "grid_row": null,
            "grid_template_areas": null,
            "grid_template_columns": null,
            "grid_template_rows": null,
            "height": null,
            "justify_content": null,
            "justify_items": null,
            "left": null,
            "margin": null,
            "max_height": null,
            "max_width": null,
            "min_height": null,
            "min_width": null,
            "object_fit": null,
            "object_position": null,
            "order": null,
            "overflow": null,
            "overflow_x": null,
            "overflow_y": null,
            "padding": null,
            "right": null,
            "top": null,
            "visibility": null,
            "width": null
          }
        },
        "eb605601698245d0bb226ffe37f910e6": {
          "model_module": "@jupyter-widgets/controls",
          "model_name": "DescriptionStyleModel",
          "model_module_version": "1.5.0",
          "state": {
            "_model_module": "@jupyter-widgets/controls",
            "_model_module_version": "1.5.0",
            "_model_name": "DescriptionStyleModel",
            "_view_count": null,
            "_view_module": "@jupyter-widgets/base",
            "_view_module_version": "1.2.0",
            "_view_name": "StyleView",
            "description_width": ""
          }
        },
        "8d1d4aa6885b4ab18dc9169595fd99f4": {
          "model_module": "@jupyter-widgets/base",
          "model_name": "LayoutModel",
          "model_module_version": "1.2.0",
          "state": {
            "_model_module": "@jupyter-widgets/base",
            "_model_module_version": "1.2.0",
            "_model_name": "LayoutModel",
            "_view_count": null,
            "_view_module": "@jupyter-widgets/base",
            "_view_module_version": "1.2.0",
            "_view_name": "LayoutView",
            "align_content": null,
            "align_items": null,
            "align_self": null,
            "border": null,
            "bottom": null,
            "display": null,
            "flex": null,
            "flex_flow": null,
            "grid_area": null,
            "grid_auto_columns": null,
            "grid_auto_flow": null,
            "grid_auto_rows": null,
            "grid_column": null,
            "grid_gap": null,
            "grid_row": null,
            "grid_template_areas": null,
            "grid_template_columns": null,
            "grid_template_rows": null,
            "height": null,
            "justify_content": null,
            "justify_items": null,
            "left": null,
            "margin": null,
            "max_height": null,
            "max_width": null,
            "min_height": null,
            "min_width": null,
            "object_fit": null,
            "object_position": null,
            "order": null,
            "overflow": null,
            "overflow_x": null,
            "overflow_y": null,
            "padding": null,
            "right": null,
            "top": null,
            "visibility": null,
            "width": null
          }
        },
        "09595277fcae42bfb3370d91dad8fd41": {
          "model_module": "@jupyter-widgets/controls",
          "model_name": "ProgressStyleModel",
          "model_module_version": "1.5.0",
          "state": {
            "_model_module": "@jupyter-widgets/controls",
            "_model_module_version": "1.5.0",
            "_model_name": "ProgressStyleModel",
            "_view_count": null,
            "_view_module": "@jupyter-widgets/base",
            "_view_module_version": "1.2.0",
            "_view_name": "StyleView",
            "bar_color": null,
            "description_width": ""
          }
        }
      }
    }
  },
  "nbformat": 4,
  "nbformat_minor": 0
}